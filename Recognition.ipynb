{
  "nbformat": 4,
  "nbformat_minor": 0,
  "metadata": {
    "colab": {
      "name": "Recognition.ipynb",
      "provenance": [],
      "collapsed_sections": [],
      "toc_visible": true,
      "include_colab_link": true
    },
    "kernelspec": {
      "name": "python3",
      "display_name": "Python 3"
    },
    "accelerator": "GPU",
    "metadata": {
      "interpreter": {
        "hash": "827bd1092702366d7b95ec0e1c26a7146c0c20f7767c239f53597f5a9a2f890b"
      }
    },
    "language_info": {
      "name": "python"
    }
  },
  "cells": [
    {
      "cell_type": "markdown",
      "metadata": {
        "id": "view-in-github",
        "colab_type": "text"
      },
      "source": [
        "<a href=\"https://colab.research.google.com/github/FaizalNazili/Tugas-Besar-Bs4-1914311022-Pagi-Ubhara-Surabaya/blob/main/Recognition.ipynb\" target=\"_parent\"><img src=\"https://colab.research.google.com/assets/colab-badge.svg\" alt=\"Open In Colab\"/></a>"
      ]
    },
    {
      "cell_type": "code",
      "metadata": {
        "colab": {
          "base_uri": "https://localhost:8080/"
        },
        "id": "7P2l4w-DCmnY",
        "outputId": "dbaa28b6-bb7b-4583-cc82-454d87e0e3e8"
      },
      "source": [
        "!git clone https://github.com/FaizalNazili/Tugas-Besar-Bs4-1914311022-Pagi-Ubhara-Surabaya.git"
      ],
      "execution_count": 1,
      "outputs": [
        {
          "output_type": "stream",
          "text": [
            "fatal: destination path 'Tugas-Besar-Bs4-1914311022-Pagi-Ubhara-Surabaya' already exists and is not an empty directory.\n"
          ],
          "name": "stdout"
        }
      ]
    },
    {
      "cell_type": "code",
      "metadata": {
        "colab": {
          "base_uri": "https://localhost:8080/"
        },
        "id": "LZciZ69Vh_nH",
        "outputId": "f85dece9-1adc-47a3-d8e4-d6e992e93745"
      },
      "source": [
        "!pip install ibm_watson"
      ],
      "execution_count": 2,
      "outputs": [
        {
          "output_type": "stream",
          "text": [
            "Requirement already satisfied: ibm_watson in /usr/local/lib/python3.7/dist-packages (5.1.0)\n",
            "Requirement already satisfied: python-dateutil>=2.5.3 in /usr/local/lib/python3.7/dist-packages (from ibm_watson) (2.8.1)\n",
            "Requirement already satisfied: websocket-client==0.48.0 in /usr/local/lib/python3.7/dist-packages (from ibm_watson) (0.48.0)\n",
            "Requirement already satisfied: ibm-cloud-sdk-core>=3.3.6 in /usr/local/lib/python3.7/dist-packages (from ibm_watson) (3.10.0)\n",
            "Requirement already satisfied: requests<3.0,>=2.0 in /usr/local/lib/python3.7/dist-packages (from ibm_watson) (2.23.0)\n",
            "Requirement already satisfied: six>=1.5 in /usr/local/lib/python3.7/dist-packages (from python-dateutil>=2.5.3->ibm_watson) (1.15.0)\n",
            "Requirement already satisfied: PyJWT<3.0.0,>=2.0.1 in /usr/local/lib/python3.7/dist-packages (from ibm-cloud-sdk-core>=3.3.6->ibm_watson) (2.1.0)\n",
            "Requirement already satisfied: idna<3,>=2.5 in /usr/local/lib/python3.7/dist-packages (from requests<3.0,>=2.0->ibm_watson) (2.10)\n",
            "Requirement already satisfied: certifi>=2017.4.17 in /usr/local/lib/python3.7/dist-packages (from requests<3.0,>=2.0->ibm_watson) (2020.12.5)\n",
            "Requirement already satisfied: chardet<4,>=3.0.2 in /usr/local/lib/python3.7/dist-packages (from requests<3.0,>=2.0->ibm_watson) (3.0.4)\n",
            "Requirement already satisfied: urllib3!=1.25.0,!=1.25.1,<1.26,>=1.21.1 in /usr/local/lib/python3.7/dist-packages (from requests<3.0,>=2.0->ibm_watson) (1.24.3)\n"
          ],
          "name": "stdout"
        }
      ]
    },
    {
      "cell_type": "code",
      "metadata": {
        "id": "buizxuuGh1BT"
      },
      "source": [
        "from ibm_watson import SpeechToTextV1\n",
        "from ibm_watson.websocket import RecognizeCallback, AudioSource \n",
        "from ibm_cloud_sdk_core.authenticators import IAMAuthenticator\n",
        "import pandas as pd\n",
        "import sys\n",
        "import os"
      ],
      "execution_count": 3,
      "outputs": []
    },
    {
      "cell_type": "markdown",
      "metadata": {
        "id": "q-2r3tlaJ632"
      },
      "source": [
        "# Perhatian : untuk mendapatkan API key dan URL silahkan mendaftar di https://cloud.ibm.com dan silahkan cari Speech to Text"
      ]
    },
    {
      "cell_type": "code",
      "metadata": {
        "id": "gkrzFwWXh6Si"
      },
      "source": [
        "apikey = 'dPG1OcuucjbYNK3CFDEqX_7YKJNPo3nvFiprPfszsjHP'\n",
        "url = 'https://api.us-south.speech-to-text.watson.cloud.ibm.com/instances/06599e43-94ba-4e51-8dd8-679d3fd01c83'  "
      ],
      "execution_count": 4,
      "outputs": []
    },
    {
      "cell_type": "code",
      "metadata": {
        "id": "AqUjv3Noh2pG"
      },
      "source": [
        "authenticator = IAMAuthenticator(apikey)\n",
        "stt = SpeechToTextV1(authenticator=authenticator)\n",
        "stt.set_service_url(url)"
      ],
      "execution_count": 5,
      "outputs": []
    },
    {
      "cell_type": "code",
      "metadata": {
        "colab": {
          "base_uri": "https://localhost:8080/"
        },
        "id": "2ijagdrxj27x",
        "outputId": "5c3653de-fd7b-403f-f6ac-8e4e40baca63"
      },
      "source": [
        "for i in os.listdir(\"/content/Tugas-Besar-Bs4-1914311022-Pagi-Ubhara-Surabaya/soundfile/\"):\n",
        "  path = \"/content/Tugas-Besar-Bs4-1914311022-Pagi-Ubhara-Surabaya/soundfile/\" + i\n",
        "  with open(path, 'rb') as file:\n",
        "    try:\n",
        "      print(\"Sedang mengenali audio\")\n",
        "      print(\"-\"*100)\n",
        "      res = stt.recognize(audio=file, content_type='audio/wav', model='en-US_NarrowbandModel', continuous=True).get_result()\n",
        "      text = res['results'][0]['alternatives'][0]['transcript']\n",
        "      # confidence = res['results'][0]['alternatives'][0]['confidence']\n",
        "      nama_file = file.name\n",
        "      print(\"Nama File        : \"+ file.name)\n",
        "      print(\"Hasil pengenalan : \"+ text)\n",
        "      # print(\"Tingkat Confindence  : \"+confidence)\n",
        "      print(\" \"*100)\n",
        "\n",
        "    except Exception as ex:\n",
        "      print(ex)"
      ],
      "execution_count": 6,
      "outputs": [
        {
          "output_type": "stream",
          "text": [
            "Sedang mengenali audio\n",
            "----------------------------------------------------------------------------------------------------\n",
            "Nama File        : /content/Tugas-Besar-Bs4-1914311022-Pagi-Ubhara-Surabaya/soundfile/malcolm_x_by_any_means1.wav\n",
            "Hasil pengenalan : we want what we \n",
            "                                                                                                    \n",
            "Sedang mengenali audio\n",
            "----------------------------------------------------------------------------------------------------\n",
            "Nama File        : /content/Tugas-Besar-Bs4-1914311022-Pagi-Ubhara-Surabaya/soundfile/manson_believe_me.wav\n",
            "Hasil pengenalan : believe me \n",
            "                                                                                                    \n",
            "Sedang mengenali audio\n",
            "----------------------------------------------------------------------------------------------------\n",
            "Nama File        : /content/Tugas-Besar-Bs4-1914311022-Pagi-Ubhara-Surabaya/soundfile/macarthur_return.wav\n",
            "Hasil pengenalan : I said to the people of the Philippines website K. and I shall return \n",
            "                                                                                                    \n",
            "Sedang mengenali audio\n",
            "----------------------------------------------------------------------------------------------------\n",
            "Nama File        : /content/Tugas-Besar-Bs4-1914311022-Pagi-Ubhara-Surabaya/soundfile/swaggart_sinned.wav\n",
            "Hasil pengenalan : I have sinned against \n",
            "                                                                                                    \n",
            "Sedang mengenali audio\n",
            "----------------------------------------------------------------------------------------------------\n",
            "list index out of range\n",
            "Sedang mengenali audio\n",
            "----------------------------------------------------------------------------------------------------\n",
            "Nama File        : /content/Tugas-Besar-Bs4-1914311022-Pagi-Ubhara-Surabaya/soundfile/tutu_mandela.wav\n",
            "Hasil pengenalan : I \n",
            "                                                                                                    \n",
            "Sedang mengenali audio\n",
            "----------------------------------------------------------------------------------------------------\n",
            "Nama File        : /content/Tugas-Besar-Bs4-1914311022-Pagi-Ubhara-Surabaya/soundfile/jackson_allegations.wav\n",
            "Hasil pengenalan : I am totally innocent of any wrongdoing and I know these terrible allegations all unproven falls \n",
            "                                                                                                    \n",
            "Sedang mengenali audio\n",
            "----------------------------------------------------------------------------------------------------\n",
            "Nama File        : /content/Tugas-Besar-Bs4-1914311022-Pagi-Ubhara-Surabaya/soundfile/patton_no_fun.wav\n",
            "Hasil pengenalan : goddammit it's no fun to say to members who love \n",
            "                                                                                                    \n",
            "Sedang mengenali audio\n",
            "----------------------------------------------------------------------------------------------------\n",
            "Nama File        : /content/Tugas-Besar-Bs4-1914311022-Pagi-Ubhara-Surabaya/soundfile/king_injustice.wav\n",
            "Hasil pengenalan : in a warehouse is a threat to justice everywhere \n",
            "                                                                                                    \n",
            "Sedang mengenali audio\n",
            "----------------------------------------------------------------------------------------------------\n",
            "Nama File        : /content/Tugas-Besar-Bs4-1914311022-Pagi-Ubhara-Surabaya/soundfile/king_war_no_more.wav\n",
            "Hasil pengenalan : I don't know about you \n",
            "                                                                                                    \n",
            "Sedang mengenali audio\n",
            "----------------------------------------------------------------------------------------------------\n",
            "Nama File        : /content/Tugas-Besar-Bs4-1914311022-Pagi-Ubhara-Surabaya/soundfile/king_nonviolence.wav\n",
            "Hasil pengenalan : %HESITATION %HESITATION %HESITATION %HESITATION %HESITATION %HESITATION the crucial political and moral questions about \n",
            "                                                                                                    \n",
            "Sedang mengenali audio\n",
            "----------------------------------------------------------------------------------------------------\n",
            "Nama File        : /content/Tugas-Besar-Bs4-1914311022-Pagi-Ubhara-Surabaya/soundfile/leary.wav\n",
            "Hasil pengenalan : turn on \n",
            "                                                                                                    \n",
            "Sedang mengenali audio\n",
            "----------------------------------------------------------------------------------------------------\n",
            "Nama File        : /content/Tugas-Besar-Bs4-1914311022-Pagi-Ubhara-Surabaya/soundfile/hawking02.wav\n",
            "Hasil pengenalan : my illness has made very little difference to my scientific work it was lucky to have chosen theoretical physics that is mainly your thought for which my physical disability that's no handicap I am may be mentally disabled as well but if so I am too far gone to realize \n",
            "                                                                                                    \n",
            "Sedang mengenali audio\n",
            "----------------------------------------------------------------------------------------------------\n",
            "Nama File        : /content/Tugas-Besar-Bs4-1914311022-Pagi-Ubhara-Surabaya/soundfile/eastwood_lawyers.wav\n",
            "Hasil pengenalan : who's who in America gives these %HESITATION lawyers that that to be the self appointed vigilantes sue %HESITATION it to enforce the law \n",
            "                                                                                                    \n",
            "Sedang mengenali audio\n",
            "----------------------------------------------------------------------------------------------------\n",
            "Nama File        : /content/Tugas-Besar-Bs4-1914311022-Pagi-Ubhara-Surabaya/soundfile/graham_any_nation.wav\n",
            "Hasil pengenalan : and then a nation that turns against the Jew in history has always made a tragic political era \n",
            "                                                                                                    \n",
            "Sedang mengenali audio\n",
            "----------------------------------------------------------------------------------------------------\n",
            "Nama File        : /content/Tugas-Besar-Bs4-1914311022-Pagi-Ubhara-Surabaya/soundfile/ll_cool_j_ya_know.wav\n",
            "Hasil pengenalan : you know I'm saying \n",
            "                                                                                                    \n",
            "Sedang mengenali audio\n",
            "----------------------------------------------------------------------------------------------------\n",
            "Nama File        : /content/Tugas-Besar-Bs4-1914311022-Pagi-Ubhara-Surabaya/soundfile/hawking01.wav\n",
            "Hasil pengenalan : I think everyone wants to know where we came from and how is the universe began calling %HESITATION can help us find answers to those questions hopefully when we understand %HESITATION so universally guy and that will give us a clue as to why it again the way it did or easy way it again at all \n",
            "                                                                                                    \n",
            "Sedang mengenali audio\n",
            "----------------------------------------------------------------------------------------------------\n",
            "Nama File        : /content/Tugas-Besar-Bs4-1914311022-Pagi-Ubhara-Surabaya/soundfile/lewis_prime-time_ratings.wav\n",
            "Hasil pengenalan : why does the media attacks an issue to get prime time ratings and watch what happens in the sweeps wanted sweeps week they hope that a child is molested by a rabbi Y. as in a band with a cow \n",
            "                                                                                                    \n",
            "Sedang mengenali audio\n",
            "----------------------------------------------------------------------------------------------------\n",
            "Nama File        : /content/Tugas-Besar-Bs4-1914311022-Pagi-Ubhara-Surabaya/soundfile/harvey_gonads.wav\n",
            "Hasil pengenalan : going ads are useful for their purpose but they are no substitute for brains \n",
            "                                                                                                    \n",
            "Sedang mengenali audio\n",
            "----------------------------------------------------------------------------------------------------\n",
            "Nama File        : /content/Tugas-Besar-Bs4-1914311022-Pagi-Ubhara-Surabaya/soundfile/mother_teresa.wav\n",
            "Hasil pengenalan : I want your money \n",
            "                                                                                                    \n",
            "Sedang mengenali audio\n",
            "----------------------------------------------------------------------------------------------------\n",
            "Nama File        : /content/Tugas-Besar-Bs4-1914311022-Pagi-Ubhara-Surabaya/soundfile/houdini_goodnight.wav\n",
            "Hasil pengenalan : my last I do not believe that he can come back to me \n",
            "                                                                                                    \n",
            "Sedang mengenali audio\n",
            "----------------------------------------------------------------------------------------------------\n",
            "Nama File        : /content/Tugas-Besar-Bs4-1914311022-Pagi-Ubhara-Surabaya/soundfile/nimoy_spock.wav\n",
            "Hasil pengenalan : greetings this is science officer Spock and currently there are no life forms available to take your call but at the prearranged audio signal please feel free to leave any verbal communication is necessary \n",
            "                                                                                                    \n",
            "Sedang mengenali audio\n",
            "----------------------------------------------------------------------------------------------------\n",
            "Nama File        : /content/Tugas-Besar-Bs4-1914311022-Pagi-Ubhara-Surabaya/soundfile/ireland_ouch.wav\n",
            "Hasil pengenalan : %HESITATION \n",
            "                                                                                                    \n",
            "Sedang mengenali audio\n",
            "----------------------------------------------------------------------------------------------------\n",
            "Nama File        : /content/Tugas-Besar-Bs4-1914311022-Pagi-Ubhara-Surabaya/soundfile/manson_devil.wav\n",
            "Hasil pengenalan : I'm stop to my friend \n",
            "                                                                                                    \n"
          ],
          "name": "stdout"
        }
      ]
    }
  ]
}